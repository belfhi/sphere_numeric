{
 "metadata": {
  "name": ""
 },
 "nbformat": 3,
 "nbformat_minor": 0,
 "worksheets": [
  {
   "cells": [
    {
     "cell_type": "markdown",
     "metadata": {},
     "source": [
      "<h1>Solution of the isothermal sphere in hydrostatic Equilibrium</h1>\n",
      "This is derivation of the gravitationally bound sphere (1D) in hydrostatic equilibrium for the isothermal case.\n",
      "The goal is to get a density distribution of the sphere in 1D depending on the radius $r$"
     ]
    },
    {
     "cell_type": "heading",
     "level": 4,
     "metadata": {},
     "source": [
      "First, we begin with the hydrostatic equilibrium: \n"
     ]
    },
    {
     "cell_type": "markdown",
     "metadata": {},
     "source": [
      "\\begin{equation}\n",
      "dP = -\\rho g dr\n",
      "\\end{equation}\n"
     ]
    },
    {
     "cell_type": "markdown",
     "metadata": {},
     "source": [
      "of course, $\\rho $ and $g$ are dependent of radius and the pressure $P$ is a function of density $\\rho$"
     ]
    },
    {
     "cell_type": "markdown",
     "metadata": {},
     "source": [
      "$$dP(\\rho) = -\\rho(r) g(r) dr$$"
     ]
    },
    {
     "cell_type": "heading",
     "level": 4,
     "metadata": {},
     "source": [
      "Now we use the equation of state for an isothermal gas:"
     ]
    },
    {
     "cell_type": "markdown",
     "metadata": {},
     "source": [
      "$$ P = \\rho R_s T \\\\\n",
      "dP = d\\rho R_s T $$"
     ]
    },
    {
     "cell_type": "markdown",
     "metadata": {},
     "source": [
      "We insert this into the above equation of the hydrostatic equilibrium. \n",
      "\n",
      "Other useful relations are:"
     ]
    },
    {
     "cell_type": "markdown",
     "metadata": {},
     "source": [
      "\\begin{equation}\n",
      "d\\rho R_s T = \\rho(r) g(r) dr \\\\\n",
      "g=G\\frac{M}{r^2} \\\\\n",
      "dM=4\\pi \\rho(r)r^2dr, \\qquad \\frac{dM}{dr}=4\\pi \\rho(r) r^2\n",
      "\\end{equation}"
     ]
    },
    {
     "cell_type": "markdown",
     "metadata": {},
     "source": [
      "We can write $d\\rho / \\rho$ as a logarithmic derivative: \n",
      "\n",
      "$$\\frac{d\\rho}{\\rho} = -\\frac{GM(r)}{R_sT}\\frac{dr}{r^2} \\\\\n",
      "d\\ln \\rho = - \\frac{GM(r)}{R_sT}\\frac{dr}{r^2}$$"
     ]
    },
    {
     "cell_type": "markdown",
     "metadata": {},
     "source": [
      "And some more sorting of the terms in the equation:"
     ]
    },
    {
     "cell_type": "markdown",
     "metadata": {},
     "source": [
      "$$r^2\\frac{d\\ln \\rho}{dr} = -\\frac{G}{R_sT}M(r)$$"
     ]
    },
    {
     "cell_type": "heading",
     "level": 4,
     "metadata": {},
     "source": [
      "Doing a derivative, $d/dr$ and inserting what we have for $dM/dr$ we get:"
     ]
    },
    {
     "cell_type": "markdown",
     "metadata": {},
     "source": [
      "$$ \\frac{d}{dr}\\left( r^2 \\frac{d\\ln\\rho}{dr} \\right)= -\\frac{G}{R_s T} \\frac{dM(r)}{dr} \\\\\n",
      "\\frac{d}{dr}\\left( r^2 \\frac{d\\ln\\rho}{dr} \\right)= -\\frac{4\\pi G}{R_s T} \\rho r^2 $$\n",
      "This is the differential equation for the isothermal sphere. Now to the solution wwhich has to be obtained numerically."
     ]
    },
    {
     "cell_type": "markdown",
     "metadata": {},
     "source": [
      "<h4>To solve this differential equation, we have to do some algebra</h4>\n",
      "We need to seperate out the first order derivatives and the second order derivatives.\n",
      "To do this we apply the product rule, which means that the differential operator acts on all the terms seperately.\n",
      "If we factor this out, we get a non-linear differential equation of second order. Differentiation $d/dr$ is denoted with the ' sign for shorthand notation."
     ]
    },
    {
     "cell_type": "markdown",
     "metadata": {},
     "source": [
      "$$ \\frac{d}{dr}\\left( \\frac{r^2}{\\rho} \\frac{d\\rho}{dr}\\right) = -\\frac{4\\pi G}{R_s T} \\rho r^2 \\\\\n",
      " \\frac{d}{dr}\\left( \\frac{r^2}{\\rho}\\right) \\frac{d\\rho}{dr}+ \\frac{r^2}{\\rho}\\frac{d^2\\rho}{dr^2} = -\\frac{4\\pi G}{R_s T}\\rho r^2 \\\\\n",
      " \\frac{2r}{\\rho}\\frac{d\\rho}{dr}-\\frac{r^2}{\\rho^2}\\left(\\frac{d\\rho}{dr}\\right)^2 + \\frac{r^2}{\\rho}\\frac{d^2\\rho}{dr^2}= -\\frac{4\\pi G}{R_s T}\\rho r^2  \\\\\n",
      " \\frac{2r}{\\rho}\\rho' - \\frac{r^2}{\\rho^2}\\rho'^2 + \\frac{r^2}{\\rho}\\rho''= -\\frac{4\\pi G}{R_s T} \\rho r^2 \\\\\n",
      " \\frac{2r}{\\rho}\\rho' - \\frac{r^2}{\\rho^2}\\rho'^2 + \\frac{r^2}{\\rho}\\rho''+\\frac{4\\pi G}{R_s T} \\rho r^2 = 0 \\\\\n",
      " \\rho'' - \\frac{\\rho'^2}{\\rho} + 2\\frac{\\rho'}{r}  +  \\frac{4\\pi G}{R_s T}\\rho^2 = 0 $$"
     ]
    },
    {
     "cell_type": "markdown",
     "metadata": {},
     "source": [
      "<h4>Substitutions to make the equations dimensionless in order to be integrated numerically:</h4>\n",
      "$$ y=\\frac{\\rho}{\\rho_c}, \\qquad x=r\\sqrt{\\frac{4\\pi G\\rho_c}{R_s T}}, \\qquad dr=\\frac{dx}{\\sqrt{\\frac{4\\pi G \\rho_c}{R_s T}}} $$\n",
      "\n",
      "The derivative $d/dr$ changes to $\\frac{d}{dx}\\sqrt{\\frac{4\\pi G\\rho_c}{R_s T}}$ and eliminates the prefactor $\\frac{4\\pi G}{R_s T}$ in the equation. We then have the dimensionless differential equation:\n",
      "\n",
      "$$y'' - \\frac{y'^2}{y} + 2\\frac{y'}{x} + y^2 = 0$$\n",
      "\n",
      "To get this into a system of two first order differential equations, we do the following:\n",
      "\n",
      "$$ \\frac{dy}{dx}= y' \\\\\n",
      "\\frac{dy'}{dx}=\\frac{y'^2}{y} - 2\\frac{y'}{x} - y^2 $$\n",
      "\n",
      "We can use this to integrate the density. SciPy provides a function _odeint_ which takes a vector of \n",
      "derivatives as input and returns the value."
     ]
    },
    {
     "cell_type": "code",
     "collapsed": false,
     "input": [
      "%matplotlib inline"
     ],
     "language": "python",
     "metadata": {},
     "outputs": [],
     "prompt_number": 56
    },
    {
     "cell_type": "code",
     "collapsed": false,
     "input": [
      "import numpy as np\n",
      "import scipy.constants as C\n",
      "from scipy.integrate import odeint\n",
      "import matplotlib.pyplot as plt\n",
      "\n",
      "N=10000 # number of points on R\n",
      "T0=200. #arbitraty temperature\n",
      "rho_c = 1e-10\n",
      "c=np.sqrt((4*C.pi*C.G*rho_c)/(C.R*T0))\n",
      "\n",
      "#derivative function which is needed for the integration\n",
      "def deriv(y,r):\n",
      "    return np.array([y[1], y[1]**2/y[0] - 2*y[1]/r - y[0]**2 ])\n",
      "\n",
      "yinit = np.array([1., 0.])       # initial value vector\n",
      "radius = np.linspace(0.1,100.,N) # radius r=0. cannot be used, as it is divided by r\n",
      "y = odeint(deriv, yinit, radius) # calling the integration function\n",
      "\n",
      "fig1= plt.figure()\n",
      "sub1 = fig1.add_subplot(111)\n",
      "sub1.plot(radius, y[:,0])\n",
      "plt.xlabel(\"radius\")\n",
      "plt.ylabel(\"density $\\\\rho / \\\\rho_c$\")\n",
      "plt.yscale('log')\n",
      "plt.xscale('log')\n",
      "plt.ylim(1e-2,1.5)\n",
      "plt.xlim(1e-1,1e2)\n",
      "\n",
      "fig1.suptitle(\"Logarithmic plot of the Sphere\")"
     ],
     "language": "python",
     "metadata": {},
     "outputs": [
      {
       "metadata": {},
       "output_type": "pyout",
       "prompt_number": 140,
       "text": [
        "<matplotlib.text.Text at 0x7ff7e5b97190>"
       ]
      },
      {
       "metadata": {},
       "output_type": "display_data",
       "png": "[encoded data removed]",
       "text": [
        "<matplotlib.figure.Figure at 0x7ff7e55fa610>"
       ]
      }
     ],
     "prompt_number": 140
    },
    {
     "cell_type": "code",
     "collapsed": false,
     "input": [
      "fig2 = plt.figure(2)\n",
      "\n",
      "sub2 = fig2.add_subplot(111)\n",
      "sub2.plot(radius, y[:,0])\n",
      "sub2.set_xlim(0,20)\n",
      "sub2.set_title(\"Linear plot\")\n",
      "sub2.set_xlabel(\"radius\")\n",
      "sub2.set_ylabel(\"density $\\\\rho/\\\\rho_c$\")"
     ],
     "language": "python",
     "metadata": {},
     "outputs": [
      {
       "metadata": {},
       "output_type": "pyout",
       "prompt_number": 146,
       "text": [
        "<matplotlib.text.Text at 0x7ff7e4d94950>"
       ]
      },
      {
       "metadata": {},
       "output_type": "display_data",
       "png": "[encoded data removed]",
       "text": [
        "<matplotlib.figure.Figure at 0x7ff7e4ea5650>"
       ]
      }
     ],
     "prompt_number": 146
    },
    {
     "cell_type": "code",
     "collapsed": false,
     "input": [],
     "language": "python",
     "metadata": {},
     "outputs": []
    }
   ],
   "metadata": {}
  }
 ]
}